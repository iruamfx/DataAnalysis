{
  "nbformat": 4,
  "nbformat_minor": 0,
  "metadata": {
    "colab": {
      "provenance": [],
      "authorship_tag": "ABX9TyOJSbnegJPtZpecygGghUpR",
      "include_colab_link": true
    },
    "kernelspec": {
      "name": "python3",
      "display_name": "Python 3"
    },
    "language_info": {
      "name": "python"
    }
  },
  "cells": [
    {
      "cell_type": "markdown",
      "metadata": {
        "id": "view-in-github",
        "colab_type": "text"
      },
      "source": [
        "<a href=\"https://colab.research.google.com/github/iruamfx/DataAnalysis/blob/main/Regressao_Linear.ipynb\" target=\"_parent\"><img src=\"https://colab.research.google.com/assets/colab-badge.svg\" alt=\"Open In Colab\"/></a>"
      ]
    },
    {
      "cell_type": "markdown",
      "source": [
        "# **Regressão Linear**\n",
        "# Com SciPy"
      ],
      "metadata": {
        "id": "ij3O4z_gKx9T"
      }
    },
    {
      "cell_type": "code",
      "execution_count": 6,
      "metadata": {
        "id": "O0Wc-I3Ax8WV"
      },
      "outputs": [],
      "source": [
        "# Importacao de Bibliotecas\n",
        "import numpy as np # Vetores e Matrizes\n",
        "import scipy # Metodos de treinamento de modelo\n",
        "import matplotlib.pyplot as plt # Construcao de Graficos\n",
        "from scipy.optimize import curve_fit # Otimizacao e aperfeicoamento da curva por meio do MSE (Mean Squared Error)\n",
        "# Alternativas ao MSE incluem o MAE (Mean ABSOLUTE error) e Huber Loss."
      ]
    },
    {
      "cell_type": "code",
      "source": [
        "# Definicao de Variaveis\n",
        "idade = [18, 25, 57, 45, 26, 64, 37, 40, 24, 33] # Variavel independente\n",
        "salarioAnual = [15000, 29000, 68000, 52000, 32000, 80000, 41000, 45000, 26000, 33000] # Variavel dependente\n",
        "\n",
        "xData = np.array(idade)\n",
        "yData = np.array(salarioAnual)"
      ],
      "metadata": {
        "id": "ennBjXiwyrjZ"
      },
      "execution_count": 7,
      "outputs": []
    },
    {
      "cell_type": "code",
      "source": [
        "# Definicao do formato da funcao a ser otimizada\n",
        "def linearEq(x, a, b):\n",
        "  return a * x + b"
      ],
      "metadata": {
        "id": "bHj8abvE0AtO"
      },
      "execution_count": 8,
      "outputs": []
    },
    {
      "cell_type": "code",
      "source": [
        "# Parametros iniciais do otimizador de curva:\n",
        "initParams = np.array([1.0, 1.0]) # A curva comecara com A = 1 e B = 1, e a partir dai o otimizador buscara a curva com menor MSE"
      ],
      "metadata": {
        "id": "sf_-lNUD1yLX"
      },
      "execution_count": 9,
      "outputs": []
    },
    {
      "cell_type": "code",
      "source": [
        "otimParams, pcov = curve_fit(linearEq, xData, yData, initParams) # Otimizador\n",
        "print(\"otimParams: \", otimParams) # Contem os valores otimizados para a curva\n",
        "print(\"paramsCovariance: \", pcov) # Contem a covariancia dos valores encontrados"
      ],
      "metadata": {
        "colab": {
          "base_uri": "https://localhost:8080/"
        },
        "id": "24RjvJGq14ji",
        "outputId": "069ab961-7148-45f7-e9bd-ef18f0eb258c"
      },
      "execution_count": 10,
      "outputs": [
        {
          "output_type": "stream",
          "name": "stdout",
          "text": [
            "otimParams:  [ 1320.53256667 -6627.65171673]\n",
            "paramsCovariance:  [[ 3.40257832e+03 -1.25555141e+05]\n",
            " [-1.25555141e+05  5.31788958e+06]]\n"
          ]
        }
      ]
    },
    {
      "cell_type": "code",
      "source": [
        "# Previsao dos dados utilizando o modelo de previsao construido\n",
        "previsionModel = linearEq(xData, *otimParams)\n",
        "previsionModel"
      ],
      "metadata": {
        "colab": {
          "base_uri": "https://localhost:8080/"
        },
        "id": "6GrRVCJZ3v9G",
        "outputId": "5c2e5106-77ec-4e06-d87e-ce0351f2f812"
      },
      "execution_count": 11,
      "outputs": [
        {
          "output_type": "execute_result",
          "data": {
            "text/plain": [
              "array([17141.93448327, 26385.66244994, 68642.70458328, 52796.31378328,\n",
              "       27706.19501661, 77886.43254995, 42232.05324995, 46193.65094995,\n",
              "       25065.12988328, 36949.92298328])"
            ]
          },
          "metadata": {},
          "execution_count": 11
        }
      ]
    },
    {
      "cell_type": "code",
      "source": [
        "# Calculo do erro absoluto (AE) entre os dados reais e os dados previstos\n",
        "AE = previsionModel - yData\n",
        "AE"
      ],
      "metadata": {
        "colab": {
          "base_uri": "https://localhost:8080/"
        },
        "id": "NbG2B3fn4Qrq",
        "outputId": "9ccbc649-f8d4-4fd2-f3a2-01d18d8038ed"
      },
      "execution_count": 12,
      "outputs": [
        {
          "output_type": "execute_result",
          "data": {
            "text/plain": [
              "array([ 2141.93448327, -2614.33755006,   642.70458328,   796.31378328,\n",
              "       -4293.80498339, -2113.56745005,  1232.05324995,  1193.65094995,\n",
              "        -934.87011672,  3949.92298328])"
            ]
          },
          "metadata": {},
          "execution_count": 12
        }
      ]
    },
    {
      "cell_type": "code",
      "source": [
        "# Calculo do erro quadratico (SE) entre os dados reais e os dados previstos\n",
        "SE = np.square(AE)\n",
        "# Calculo do MSE\n",
        "MSE = np.mean(SE)\n",
        "MSE"
      ],
      "metadata": {
        "colab": {
          "base_uri": "https://localhost:8080/"
        },
        "id": "18pfGFqV426A",
        "outputId": "6eaca46c-6670-4346-bd2a-9a1eb20a382f"
      },
      "execution_count": 13,
      "outputs": [
        {
          "output_type": "execute_result",
          "data": {
            "text/plain": [
              "5479238.909036714"
            ]
          },
          "metadata": {},
          "execution_count": 13
        }
      ]
    },
    {
      "cell_type": "code",
      "source": [
        "# Calculo do Coeficiente de Determinacao\n",
        "#  Representa quanto o valor de Y (salario) varia em relacao ao X (idade); calculado atraves da variancia do erro pelo y real\n",
        "Rsquared = 1.0 - (np.var(AE) / np.var(yData))\n",
        "Rsquared # A variancia de Y esta 98% atrelada a variancia em X"
      ],
      "metadata": {
        "colab": {
          "base_uri": "https://localhost:8080/"
        },
        "id": "UsFqYcla5e89",
        "outputId": "5f7eb058-b5a7-452f-9760-94b815d869bb"
      },
      "execution_count": 14,
      "outputs": [
        {
          "output_type": "execute_result",
          "data": {
            "text/plain": [
              "0.9846300347582353"
            ]
          },
          "metadata": {},
          "execution_count": 14
        }
      ]
    },
    {
      "cell_type": "code",
      "source": [
        "# Plotagem do grafico\n",
        "f = plt.figure(figsize=(4, 4), dpi=100) # Tamanho da figura\n",
        "axes = f.add_subplot(111) # Cria os objetos do subplot\n",
        "\n",
        "# Preenche os pontos no grafico\n",
        "axes.plot(xData, yData, \"rx\")\n",
        "\n",
        "# Instancia os dados para serem utilizados na construcao da linha (representar a equacao de previsao)\n",
        "xModel = np.linspace(min(xData), max(xData)) # Cria um vetor de entradas X para o modelo linearmente e igualmente espacadas, baseado nos dados X reais // Constante de espacamento: 0.93877551\n",
        "yModel = linearEq(xModel, *otimParams) # Cria um vetor de saidas Y utilizando o modelo de previsao, e com as entradas X lineares acima\n",
        "\n",
        "axes.plot(xModel, yModel) #Plot da Linha\n",
        "plt.xlabel(\"Idade\")\n",
        "plt.ylabel(\"Salario Anual\")"
      ],
      "metadata": {
        "colab": {
          "base_uri": "https://localhost:8080/",
          "height": 405
        },
        "id": "a49txh8C6sM1",
        "outputId": "24f73f59-ca26-4425-fc95-5ef0ba9278ce"
      },
      "execution_count": 15,
      "outputs": [
        {
          "output_type": "execute_result",
          "data": {
            "text/plain": [
              "Text(0, 0.5, 'Salario Anual')"
            ]
          },
          "metadata": {},
          "execution_count": 15
        },
        {
          "output_type": "display_data",
          "data": {
            "text/plain": [
              "<Figure size 400x400 with 1 Axes>"
            ],
            "image/png": "[encoded data removed]"
          },
          "metadata": {}
        }
      ]
    },
    {
      "cell_type": "markdown",
      "source": [
        "# Com SKLearn"
      ],
      "metadata": {
        "id": "hZ9ceKs4MpcE"
      }
    },
    {
      "cell_type": "code",
      "source": [
        "from sklearn.linear_model import LinearRegression\n",
        "from sklearn.metrics import mean_squared_error\n",
        "from sklearn.metrics import r2_score"
      ],
      "metadata": {
        "id": "koXdpugRMpAn"
      },
      "execution_count": 16,
      "outputs": []
    },
    {
      "cell_type": "code",
      "source": [
        "linreg = LinearRegression() # Objeto para LinearRegression\n",
        "xModel = xData.reshape(-1, 1) # Transformando em 2D\n",
        "reg = linreg.fit(xModel, yData) # Retorna objeto do modelo"
      ],
      "metadata": {
        "id": "JxQHP_EANB2M"
      },
      "execution_count": 17,
      "outputs": []
    },
    {
      "cell_type": "code",
      "source": [
        "# Realiza previsao usando o modelo\n",
        "prev = reg.predict(xModel)"
      ],
      "metadata": {
        "id": "k5NKon3vONmi"
      },
      "execution_count": 18,
      "outputs": []
    },
    {
      "cell_type": "code",
      "source": [
        "# Visualizacao dos Parametros:\n",
        "# Encontrar o MSE por meio do SkLearn\n",
        "mse = mean_squared_error(yData, prev)\n",
        "print(\"MSE:\\n\", mse)\n",
        "# Visualizar coeficientes do modelo:\n",
        "print('Coefs do modelo:\\n A: {} ; B: {}'.format(reg.coef_, reg.intercept_))\n",
        "# Visualizar coeficiente de determinacao\n",
        "r2 = r2_score(yData, prev)\n",
        "print(\"Coef de determinacao:\\n\", r2)"
      ],
      "metadata": {
        "colab": {
          "base_uri": "https://localhost:8080/"
        },
        "id": "BgvdIwrtOsar",
        "outputId": "785c17dc-4606-4c09-fc04-4929a49af38d"
      },
      "execution_count": 19,
      "outputs": [
        {
          "output_type": "stream",
          "name": "stdout",
          "text": [
            "MSE:\n",
            " 5479238.909036713\n",
            "Coefs do modelo:\n",
            " A: [1320.53256496] ; B: -6627.651646877632\n",
            "Coef de determinacao:\n",
            " 0.9846300347582353\n"
          ]
        }
      ]
    },
    {
      "cell_type": "markdown",
      "source": [
        "# Regressao aplicada a um modelo real\n",
        "Mais dados e maior complexidade"
      ],
      "metadata": {
        "id": "RKokNb-GQ0FR"
      }
    },
    {
      "cell_type": "code",
      "source": [
        "import pandas as pd\n",
        "from google.colab import drive\n",
        "drive.mount('/content/drive')"
      ],
      "metadata": {
        "id": "hZoXy98EQ9ox",
        "colab": {
          "base_uri": "https://localhost:8080/"
        },
        "outputId": "08ad6e78-aa55-4a47-ecad-cd50492822b9"
      },
      "execution_count": 21,
      "outputs": [
        {
          "output_type": "stream",
          "name": "stdout",
          "text": [
            "Drive already mounted at /content/drive; to attempt to forcibly remount, call drive.mount(\"/content/drive\", force_remount=True).\n"
          ]
        }
      ]
    },
    {
      "cell_type": "code",
      "source": [
        "data = pd.read_csv(\"drive/MyDrive/xpe/headbrain.csv\")\n",
        "data.head()"
      ],
      "metadata": {
        "colab": {
          "base_uri": "https://localhost:8080/",
          "height": 206
        },
        "id": "6SH4JpmnRADw",
        "outputId": "62214b77-687b-4f18-f922-0a1c16221da7"
      },
      "execution_count": 22,
      "outputs": [
        {
          "data": {
            "application/vnd.google.colaboratory.intrinsic+json": {
              "summary": "{\n  \"name\": \"data\",\n  \"rows\": 237,\n  \"fields\": [\n    {\n      \"column\": \"Gender\",\n      \"properties\": {\n        \"dtype\": \"number\",\n        \"std\": 0,\n        \"min\": 1,\n        \"max\": 2,\n        \"num_unique_values\": 2,\n        \"samples\": [\n          2,\n          1\n        ],\n        \"semantic_type\": \"\",\n        \"description\": \"\"\n      }\n    },\n    {\n      \"column\": \"Age Range\",\n      \"properties\": {\n        \"dtype\": \"number\",\n        \"std\": 0,\n        \"min\": 1,\n        \"max\": 2,\n        \"num_unique_values\": 2,\n        \"samples\": [\n          2,\n          1\n        ],\n        \"semantic_type\": \"\",\n        \"description\": \"\"\n      }\n    },\n    {\n      \"column\": \"Head Size(cm^3)\",\n      \"properties\": {\n        \"dtype\": \"number\",\n        \"std\": 365,\n        \"min\": 2720,\n        \"max\": 4747,\n        \"num_unique_values\": 221,\n        \"samples\": [\n          3302,\n          3853\n        ],\n        \"semantic_type\": \"\",\n        \"description\": \"\"\n      }\n    },\n    {\n      \"column\": \"Brain Weight(grams)\",\n      \"properties\": {\n        \"dtype\": \"number\",\n        \"std\": 120,\n        \"min\": 955,\n        \"max\": 1635,\n        \"num_unique_values\": 146,\n        \"samples\": [\n          1330,\n          1334\n        ],\n        \"semantic_type\": \"\",\n        \"description\": \"\"\n      }\n    }\n  ]\n}",
              "type": "dataframe",
              "variable_name": "data"
            },
            "text/html": [
              "\n",
              "  <div id=\"df-acf1e299-e0c7-4483-9117-466ae03ed80d\" class=\"colab-df-container\">\n",
              "    <div>\n",
              "<style scoped>\n",
              "    .dataframe tbody tr th:only-of-type {\n",
              "        vertical-align: middle;\n",
              "    }\n",
              "\n",
              "    .dataframe tbody tr th {\n",
              "        vertical-align: top;\n",
              "    }\n",
              "\n",
              "    .dataframe thead th {\n",
              "        text-align: right;\n",
              "    }\n",
              "</style>\n",
              "<table border=\"1\" class=\"dataframe\">\n",
              "  <thead>\n",
              "    <tr style=\"text-align: right;\">\n",
              "      <th></th>\n",
              "      <th>Gender</th>\n",
              "      <th>Age Range</th>\n",
              "      <th>Head Size(cm^3)</th>\n",
              "      <th>Brain Weight(grams)</th>\n",
              "    </tr>\n",
              "  </thead>\n",
              "  <tbody>\n",
              "    <tr>\n",
              "      <th>0</th>\n",
              "      <td>1</td>\n",
              "      <td>1</td>\n",
              "      <td>4512</td>\n",
              "      <td>1530</td>\n",
              "    </tr>\n",
              "    <tr>\n",
              "      <th>1</th>\n",
              "      <td>1</td>\n",
              "      <td>1</td>\n",
              "      <td>3738</td>\n",
              "      <td>1297</td>\n",
              "    </tr>\n",
              "    <tr>\n",
              "      <th>2</th>\n",
              "      <td>1</td>\n",
              "      <td>1</td>\n",
              "      <td>4261</td>\n",
              "      <td>1335</td>\n",
              "    </tr>\n",
              "    <tr>\n",
              "      <th>3</th>\n",
              "      <td>1</td>\n",
              "      <td>1</td>\n",
              "      <td>3777</td>\n",
              "      <td>1282</td>\n",
              "    </tr>\n",
              "    <tr>\n",
              "      <th>4</th>\n",
              "      <td>1</td>\n",
              "      <td>1</td>\n",
              "      <td>4177</td>\n",
              "      <td>1590</td>\n",
              "    </tr>\n",
              "  </tbody>\n",
              "</table>\n",
              "</div>\n",
              "    <div class=\"colab-df-buttons\">\n",
              "\n",
              "  <div class=\"colab-df-container\">\n",
              "    <button class=\"colab-df-convert\" onclick=\"convertToInteractive('df-acf1e299-e0c7-4483-9117-466ae03ed80d')\"\n",
              "            title=\"Convert this dataframe to an interactive table.\"\n",
              "            style=\"display:none;\">\n",
              "\n",
              "  <svg xmlns=\"http://www.w3.org/2000/svg\" height=\"24px\" viewBox=\"0 -960 960 960\">\n",
              "    <path d=\"M120-120v-720h720v720H120Zm60-500h600v-160H180v160Zm220 220h160v-160H400v160Zm0 220h160v-160H400v160ZM180-400h160v-160H180v160Zm440 0h160v-160H620v160ZM180-180h160v-160H180v160Zm440 0h160v-160H620v160Z\"/>\n",
              "  </svg>\n",
              "    </button>\n",
              "\n",
              "  <style>\n",
              "    .colab-df-container {\n",
              "      display:flex;\n",
              "      gap: 12px;\n",
              "    }\n",
              "\n",
              "    .colab-df-convert {\n",
              "      background-color: #E8F0FE;\n",
              "      border: none;\n",
              "      border-radius: 50%;\n",
              "      cursor: pointer;\n",
              "      display: none;\n",
              "      fill: #1967D2;\n",
              "      height: 32px;\n",
              "      padding: 0 0 0 0;\n",
              "      width: 32px;\n",
              "    }\n",
              "\n",
              "    .colab-df-convert:hover {\n",
              "      background-color: #E2EBFA;\n",
              "      box-shadow: 0px 1px 2px rgba(60, 64, 67, 0.3), 0px 1px 3px 1px rgba(60, 64, 67, 0.15);\n",
              "      fill: #174EA6;\n",
              "    }\n",
              "\n",
              "    .colab-df-buttons div {\n",
              "      margin-bottom: 4px;\n",
              "    }\n",
              "\n",
              "    [theme=dark] .colab-df-convert {\n",
              "      background-color: #3B4455;\n",
              "      fill: #D2E3FC;\n",
              "    }\n",
              "\n",
              "    [theme=dark] .colab-df-convert:hover {\n",
              "      background-color: #434B5C;\n",
              "      box-shadow: 0px 1px 3px 1px rgba(0, 0, 0, 0.15);\n",
              "      filter: drop-shadow(0px 1px 2px rgba(0, 0, 0, 0.3));\n",
              "      fill: #FFFFFF;\n",
              "    }\n",
              "  </style>\n",
              "\n",
              "    <script>\n",
              "      const buttonEl =\n",
              "        document.querySelector('#df-acf1e299-e0c7-4483-9117-466ae03ed80d button.colab-df-convert');\n",
              "      buttonEl.style.display =\n",
              "        google.colab.kernel.accessAllowed ? 'block' : 'none';\n",
              "\n",
              "      async function convertToInteractive(key) {\n",
              "        const element = document.querySelector('#df-acf1e299-e0c7-4483-9117-466ae03ed80d');\n",
              "        const dataTable =\n",
              "          await google.colab.kernel.invokeFunction('convertToInteractive',\n",
              "                                                    [key], {});\n",
              "        if (!dataTable) return;\n",
              "\n",
              "        const docLinkHtml = 'Like what you see? Visit the ' +\n",
              "          '<a target=\"_blank\" href=https://colab.research.google.com/notebooks/data_table.ipynb>data table notebook</a>'\n",
              "          + ' to learn more about interactive tables.';\n",
              "        element.innerHTML = '';\n",
              "        dataTable['output_type'] = 'display_data';\n",
              "        await google.colab.output.renderOutput(dataTable, element);\n",
              "        const docLink = document.createElement('div');\n",
              "        docLink.innerHTML = docLinkHtml;\n",
              "        element.appendChild(docLink);\n",
              "      }\n",
              "    </script>\n",
              "  </div>\n",
              "\n",
              "\n",
              "<div id=\"df-9a094e29-5ec9-44d9-8d12-5e728457f9be\">\n",
              "  <button class=\"colab-df-quickchart\" onclick=\"quickchart('df-9a094e29-5ec9-44d9-8d12-5e728457f9be')\"\n",
              "            title=\"Suggest charts\"\n",
              "            style=\"display:none;\">\n",
              "\n",
              "<svg xmlns=\"http://www.w3.org/2000/svg\" height=\"24px\"viewBox=\"0 0 24 24\"\n",
              "     width=\"24px\">\n",
              "    <g>\n",
              "        <path d=\"M19 3H5c-1.1 0-2 .9-2 2v14c0 1.1.9 2 2 2h14c1.1 0 2-.9 2-2V5c0-1.1-.9-2-2-2zM9 17H7v-7h2v7zm4 0h-2V7h2v10zm4 0h-2v-4h2v4z\"/>\n",
              "    </g>\n",
              "</svg>\n",
              "  </button>\n",
              "\n",
              "<style>\n",
              "  .colab-df-quickchart {\n",
              "      --bg-color: #E8F0FE;\n",
              "      --fill-color: #1967D2;\n",
              "      --hover-bg-color: #E2EBFA;\n",
              "      --hover-fill-color: #174EA6;\n",
              "      --disabled-fill-color: #AAA;\n",
              "      --disabled-bg-color: #DDD;\n",
              "  }\n",
              "\n",
              "  [theme=dark] .colab-df-quickchart {\n",
              "      --bg-color: #3B4455;\n",
              "      --fill-color: #D2E3FC;\n",
              "      --hover-bg-color: #434B5C;\n",
              "      --hover-fill-color: #FFFFFF;\n",
              "      --disabled-bg-color: #3B4455;\n",
              "      --disabled-fill-color: #666;\n",
              "  }\n",
              "\n",
              "  .colab-df-quickchart {\n",
              "    background-color: var(--bg-color);\n",
              "    border: none;\n",
              "    border-radius: 50%;\n",
              "    cursor: pointer;\n",
              "    display: none;\n",
              "    fill: var(--fill-color);\n",
              "    height: 32px;\n",
              "    padding: 0;\n",
              "    width: 32px;\n",
              "  }\n",
              "\n",
              "  .colab-df-quickchart:hover {\n",
              "    background-color: var(--hover-bg-color);\n",
              "    box-shadow: 0 1px 2px rgba(60, 64, 67, 0.3), 0 1px 3px 1px rgba(60, 64, 67, 0.15);\n",
              "    fill: var(--button-hover-fill-color);\n",
              "  }\n",
              "\n",
              "  .colab-df-quickchart-complete:disabled,\n",
              "  .colab-df-quickchart-complete:disabled:hover {\n",
              "    background-color: var(--disabled-bg-color);\n",
              "    fill: var(--disabled-fill-color);\n",
              "    box-shadow: none;\n",
              "  }\n",
              "\n",
              "  .colab-df-spinner {\n",
              "    border: 2px solid var(--fill-color);\n",
              "    border-color: transparent;\n",
              "    border-bottom-color: var(--fill-color);\n",
              "    animation:\n",
              "      spin 1s steps(1) infinite;\n",
              "  }\n",
              "\n",
              "  @keyframes spin {\n",
              "    0% {\n",
              "      border-color: transparent;\n",
              "      border-bottom-color: var(--fill-color);\n",
              "      border-left-color: var(--fill-color);\n",
              "    }\n",
              "    20% {\n",
              "      border-color: transparent;\n",
              "      border-left-color: var(--fill-color);\n",
              "      border-top-color: var(--fill-color);\n",
              "    }\n",
              "    30% {\n",
              "      border-color: transparent;\n",
              "      border-left-color: var(--fill-color);\n",
              "      border-top-color: var(--fill-color);\n",
              "      border-right-color: var(--fill-color);\n",
              "    }\n",
              "    40% {\n",
              "      border-color: transparent;\n",
              "      border-right-color: var(--fill-color);\n",
              "      border-top-color: var(--fill-color);\n",
              "    }\n",
              "    60% {\n",
              "      border-color: transparent;\n",
              "      border-right-color: var(--fill-color);\n",
              "    }\n",
              "    80% {\n",
              "      border-color: transparent;\n",
              "      border-right-color: var(--fill-color);\n",
              "      border-bottom-color: var(--fill-color);\n",
              "    }\n",
              "    90% {\n",
              "      border-color: transparent;\n",
              "      border-bottom-color: var(--fill-color);\n",
              "    }\n",
              "  }\n",
              "</style>\n",
              "\n",
              "  <script>\n",
              "    async function quickchart(key) {\n",
              "      const quickchartButtonEl =\n",
              "        document.querySelector('#' + key + ' button');\n",
              "      quickchartButtonEl.disabled = true;  // To prevent multiple clicks.\n",
              "      quickchartButtonEl.classList.add('colab-df-spinner');\n",
              "      try {\n",
              "        const charts = await google.colab.kernel.invokeFunction(\n",
              "            'suggestCharts', [key], {});\n",
              "      } catch (error) {\n",
              "        console.error('Error during call to suggestCharts:', error);\n",
              "      }\n",
              "      quickchartButtonEl.classList.remove('colab-df-spinner');\n",
              "      quickchartButtonEl.classList.add('colab-df-quickchart-complete');\n",
              "    }\n",
              "    (() => {\n",
              "      let quickchartButtonEl =\n",
              "        document.querySelector('#df-9a094e29-5ec9-44d9-8d12-5e728457f9be button');\n",
              "      quickchartButtonEl.style.display =\n",
              "        google.colab.kernel.accessAllowed ? 'block' : 'none';\n",
              "    })();\n",
              "  </script>\n",
              "</div>\n",
              "\n",
              "    </div>\n",
              "  </div>\n"
            ],
            "text/plain": [
              "   Gender  Age Range  Head Size(cm^3)  Brain Weight(grams)\n",
              "0       1          1             4512                 1530\n",
              "1       1          1             3738                 1297\n",
              "2       1          1             4261                 1335\n",
              "3       1          1             3777                 1282\n",
              "4       1          1             4177                 1590"
            ]
          },
          "execution_count": 22,
          "metadata": {},
          "output_type": "execute_result"
        }
      ]
    },
    {
      "cell_type": "code",
      "source": [
        "# E necessario transformar os valores de tipo dataframe para array\n",
        "xData = data['Head Size(cm^3)'].values\n",
        "yData = data['Brain Weight(grams)'].values"
      ],
      "metadata": {
        "id": "9eHnmUEBS286"
      },
      "execution_count": 28,
      "outputs": []
    },
    {
      "cell_type": "code",
      "source": [
        "# Criacao do modelo\n",
        "linreg = LinearRegression()\n",
        "xData = xData.reshape(-1, 1) #1D para 2D\n",
        "reg = linreg.fit(xData, yData)"
      ],
      "metadata": {
        "id": "9cYNEVxqTSwh"
      },
      "execution_count": 29,
      "outputs": []
    },
    {
      "cell_type": "code",
      "source": [
        "# Previsao com o modelo\n",
        "prev = reg.predict(xData)"
      ],
      "metadata": {
        "id": "4EWJeJ65EynF"
      },
      "execution_count": 33,
      "outputs": []
    },
    {
      "cell_type": "code",
      "source": [
        "# Visualizacao de parametros:\n",
        "print(\"Coefs do modelo:\\n A: {} ; B: {}\".format(reg.coef_, reg.intercept_))\n",
        "# Calculo do coef de determinacao:\n",
        "r2 = r2_score(yData, prev)\n",
        "print(\"Coef de determinacao:\\n\", r2)\n",
        "# 63%: Modelo de Regressao Linear nao e tao satisfatorio, pois o o tamanho da cabeca so explica o peso em 63%, ou seja, ao utilizar o modelo,\n",
        "# e perdido muito detalhe\n",
        "\n",
        "# Visualizacao do MSE:\n",
        "mse = mean_squared_error(yData, prev)\n",
        "print(\"MSE:\\n\", mse)"
      ],
      "metadata": {
        "colab": {
          "base_uri": "https://localhost:8080/"
        },
        "id": "_V3d1DbgFEm5",
        "outputId": "ea1edcd7-ae3d-4799-a37b-df3451827878"
      },
      "execution_count": 35,
      "outputs": [
        {
          "output_type": "stream",
          "name": "stdout",
          "text": [
            "Coefs do modelo:\n",
            " A: [0.26342934] ; B: 325.5734210494426\n",
            "Coef de determinacao:\n",
            " 0.639311719957\n",
            "MSE:\n",
            " 5201.3840280023305\n"
          ]
        }
      ]
    },
    {
      "cell_type": "code",
      "source": [
        "# Plot dos dados\n",
        "plt.figure(figsize=(4, 4), dpi=100)\n",
        "axes = plt.subplot(111)\n",
        "axes.plot(xData, yData, \"rx\")\n",
        "\n",
        "xModel = np.linspace(min(xData), max(xData))\n",
        "yModel = reg.predict(xModel)\n",
        "\n",
        "axes.plot(xModel, yModel)\n",
        "plt.xlabel(\"Head Size(cm^3)\")\n",
        "plt.ylabel(\"Brain Weight(grams)\")"
      ],
      "metadata": {
        "colab": {
          "base_uri": "https://localhost:8080/",
          "height": 405
        },
        "id": "InMouoG6HL_r",
        "outputId": "902e4581-a27c-4025-a6c8-271a4fa258df"
      },
      "execution_count": 34,
      "outputs": [
        {
          "output_type": "execute_result",
          "data": {
            "text/plain": [
              "Text(0, 0.5, 'Brain Weight(grams)')"
            ]
          },
          "metadata": {},
          "execution_count": 34
        },
        {
          "output_type": "display_data",
          "data": {
            "text/plain": [
              "<Figure size 400x400 with 1 Axes>"
            ],
            "image/png": "[encoded data removed]"
          },
          "metadata": {}
        }
      ]
    }
  ]
}